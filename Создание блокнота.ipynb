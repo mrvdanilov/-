{
 "cells": [
  {
   "cell_type": "markdown",
   "id": "f44b3852-67ac-4bc2-b51c-baaf7216c46d",
   "metadata": {},
   "source": [
    "### Введение\n",
    "\n",
    "Создадим свой блокнот на python с использованием графического фреймворка tkinter.\n",
    "\n",
    "В блокноте будет возможность сменить тему, шрифт, а так же открывать уже существующие txt-файлы, сохранять и создавать новые."
   ]
  },
  {
   "cell_type": "markdown",
   "id": "9442cf75-d9e2-465e-8b71-a951b974575e",
   "metadata": {},
   "source": [
    "### Создание окна блокнота\n",
    "\n",
    "Для начала создадим импортируем всё что нам нужно, и создадим окно tkinter. Добавим заголовок и разрешение окна."
   ]
  },
  {
   "cell_type": "code",
   "execution_count": null,
   "id": "8b3cbd9b-64fb-4546-859e-936022c0ec33",
   "metadata": {
    "tags": []
   },
   "outputs": [],
   "source": [
    "from tkinter import *\n",
    "from tkinter import messagebox\n",
    "from tkinter import filedialog\n",
    "\n",
    "root = Tk()\n",
    "# Заголовок\n",
    "root.title('Блокнот')\n",
    "# Разрешение окна\n",
    "root.geometry('600x700')\n",
    "\n",
    "root.mainloop()"
   ]
  },
  {
   "cell_type": "markdown",
   "id": "d047c0a3-1a36-4263-9c42-3c3b88cd3fcc",
   "metadata": {},
   "source": [
    "### Наполнение окна\n",
    "\n",
    "### Добавление виджета Frame\n",
    "\n",
    "Добавим то, для чего по сути и создан блокнот, а именно текстовое поле, в котором можно будет что-то писать. Для этого мы создадим виджет Frame и расположения его в окне методом pack()."
   ]
  },
  {
   "cell_type": "code",
   "execution_count": null,
   "id": "a2d6efef-79ba-498f-b725-80b6af97a0ab",
   "metadata": {
    "tags": []
   },
   "outputs": [],
   "source": [
    "# Создание Frame\n",
    "f_text = Frame(root)\n",
    "# Расположение виджета Frame в окне\n",
    "f_text.pack(fill=BOTH, expand=1)"
   ]
  },
  {
   "cell_type": "markdown",
   "id": "7b18a392-ce38-4888-8d0f-1326490abf97",
   "metadata": {},
   "source": [
    "Свойство fill=BOTH — заполнение всего окна\n",
    "\n",
    "Свойство expand=1 — расширение\n",
    "\n",
    "### Текстовое поле\n",
    "\n",
    "Для добавления текстового поля воспользуемся виджетом Text и расположения его в окне методом pack()."
   ]
  },
  {
   "cell_type": "code",
   "execution_count": null,
   "id": "b83c4fc5-5f72-4869-adbc-5e317409538d",
   "metadata": {
    "tags": []
   },
   "outputs": [],
   "source": [
    "text_fild = Text(f_text,\n",
    "                 bg='black',\n",
    "                 fg='lime',\n",
    "                 padx=10,\n",
    "                 pady=10,\n",
    "                 wrap=WORD,\n",
    "                 insertbackground='brown',\n",
    "                 selectbackground='#8D917A',\n",
    "                 spacing3=10,\n",
    "                 width=30,\n",
    "                 font='Arial 14 bold'\n",
    "                 )\n",
    "text_fild.pack(expand=1, fill=BOTH, side=LEFT)"
   ]
  },
  {
   "cell_type": "markdown",
   "id": "311adf55-1941-483a-80d3-1e7e0c516c63",
   "metadata": {},
   "source": [
    "bg — цвет фона\n",
    "\n",
    "fg — цвет текста\n",
    "\n",
    "padx — добавление отступов по X\n",
    "\n",
    "pady — добавление отступов по Y\n",
    "\n",
    "wrap — обёртывание текста\n",
    "\n",
    "insertbackground — цвет курсора\n",
    "\n",
    "selectbackground — цвет выделения текста\n",
    "\n",
    "spacing3 — отступы между абзацами\n",
    "\n",
    "width — ширина строки\n",
    "\n",
    "font — шрифт, его размер и начертание\n",
    "\n",
    "Далее нужно добавить scrollbar для удобного пролистывания текста вниз и вверх."
   ]
  },
  {
   "cell_type": "code",
   "execution_count": null,
   "id": "08d4614f-156c-472d-93cf-abaef825fc02",
   "metadata": {
    "tags": []
   },
   "outputs": [],
   "source": [
    "# Создание Виджета Scrollbar\n",
    "scroll = Scrollbar(f_text, command=text_fild.yview)\n",
    "# Расположение виджета Scrollbar в окне\n",
    "scroll.pack(side=LEFT, fill=Y)\n",
    "# Привязка Scrollbar к текстовому полю\n",
    "text_fild.config(yscrollcommand=scroll.set)"
   ]
  },
  {
   "cell_type": "markdown",
   "id": "f2f05851-bf02-4e12-ace4-9b77b11b0793",
   "metadata": {
    "tags": []
   },
   "source": [
    "### Добавлению меню\n",
    "\n",
    "Для начала применим класс Menu к нашему окну root."
   ]
  },
  {
   "cell_type": "markdown",
   "id": "c61533fb-1b92-4afe-9484-7436600f41c7",
   "metadata": {},
   "source": [
    "main_menu = Menu(root) # Привязываем класс Menu к root"
   ]
  },
  {
   "cell_type": "markdown",
   "id": "52a9aacd-d83c-4294-b192-2fd5785ad9f1",
   "metadata": {},
   "source": [
    "В нашем меню будет две вкладки: «Файл» и «Вид».\n",
    "\n",
    "Во вкладке «Файл» будут находиться выпадающее меню «Открыть» (открыть файл), «Сохранить» (сохранить файл) и «Закрыть» (закрыть файл).\n",
    "\n",
    "Во вкладке «Вид» будет находиться выпадающее меню «Тема» (выбор одной из темы) и «Шрифт» (выбор шрифта)."
   ]
  },
  {
   "cell_type": "code",
   "execution_count": null,
   "id": "ca70fe22-a403-4ca2-aa96-37452cc163d2",
   "metadata": {
    "tags": []
   },
   "outputs": [],
   "source": [
    "# Файл\n",
    "file_menu = Menu(main_menu, tearoff=0)\n",
    "file_menu.add_command(label='Открыть')\n",
    "file_menu.add_command(label='Сохранить')\n",
    "file_menu.add_separator()\n",
    "file_menu.add_command(label='Закрыть')\n",
    "\n",
    "# Вид\n",
    "view_menu = Menu(main_menu, tearoff=0)\n",
    "view_menu_sub = Menu(view_menu, tearoff=0)\n",
    "font_menu_sub = Menu(view_menu, tearoff=0)\n",
    "\n",
    "# Выпадающий список с темами\n",
    "view_menu_sub.add_command(label='Тёмная')\n",
    "view_menu_sub.add_command(label='Светлая')\n",
    "view_menu.add_cascade(label='Тема', menu=view_menu_sub)\n",
    "\n",
    "# Выпадающий список со шрифтами\n",
    "font_menu_sub.add_command(label='Arial')\n",
    "font_menu_sub.add_command(label='Comic Sans MS')\n",
    "font_menu_sub.add_command(label='Times New Roman')\n",
    "view_menu.add_cascade(label='Шрифт...', menu=font_menu_sub)\n",
    "\n",
    "# Добавление списков меню\n",
    "main_menu.add_cascade(label='Файл', menu=file_menu)\n",
    "main_menu.add_cascade(label='Вид', menu=view_menu)\n",
    "root.config(menu=main_menu)"
   ]
  },
  {
   "cell_type": "markdown",
   "id": "4c36ae67-1e3a-4d2d-bf60-c72d7e3bdfe2",
   "metadata": {},
   "source": [
    "### Добавление тем и шрифтов\n",
    "\n",
    "Для добавления тёмной и светлой тем, создадим словарь с вложенными словарями. Основной словарь будет хранить в себе название тем, а они в свою очередь будут хранить параметры тем."
   ]
  },
  {
   "cell_type": "code",
   "execution_count": null,
   "id": "0875497f-7f13-4f2a-a879-f201c224fea3",
   "metadata": {
    "tags": []
   },
   "outputs": [],
   "source": [
    "# Темы\n",
    "view_colors = {\n",
    "    'dark': {\n",
    "        'text_bg': 'black', 'text_fg': 'lime', 'cursor': 'brown', 'select_bg': '#8D917A'\n",
    "    },\n",
    "    'light': {\n",
    "        'text_bg': 'white', 'text_fg': 'black', 'cursor': '#A5A5A5', 'select_bg': '#FAEEDD'\n",
    "    }\n",
    "}"
   ]
  },
  {
   "cell_type": "markdown",
   "id": "d5814074-d758-462c-8eff-ac46ccc24209",
   "metadata": {},
   "source": [
    "Проделаем то же самое со шрифтами:"
   ]
  },
  {
   "cell_type": "code",
   "execution_count": null,
   "id": "4cdbebad-0d0f-4f89-99e5-27762bebb52a",
   "metadata": {
    "tags": []
   },
   "outputs": [],
   "source": [
    "# Шрифты\n",
    "fonts = {\n",
    "    'Arial': {\n",
    "        'font': 'Arial 14 bold'\n",
    "    },\n",
    "    'CSMS': {\n",
    "        'font': ('Comic Sans MS', 14, 'bold')\n",
    "    },\n",
    "    'TNR': {\n",
    "        'font': ('Times New Roman', 14, 'bold')\n",
    "    }\n",
    "}"
   ]
  },
  {
   "cell_type": "markdown",
   "id": "2286f543-6b8d-411f-a5ba-777a6fe536bf",
   "metadata": {},
   "source": [
    "### Создание функций\n",
    "\n",
    "Добавим функции, чтобы задействовать все пункты созданного ранее меню."
   ]
  },
  {
   "cell_type": "code",
   "execution_count": null,
   "id": "38eafbc5-1c17-414a-9733-fc4609f71921",
   "metadata": {
    "tags": []
   },
   "outputs": [],
   "source": [
    "# Изменение тем\n",
    "def chenge_theme(theme):\n",
    "    text_fild['bg'] = view_colors[theme]['text_bg']\n",
    "    text_fild['fg'] = view_colors[theme]['text_fg']\n",
    "    text_fild['insertbackground'] = view_colors[theme]['cursor']\n",
    "    text_fild['selectbackground'] = view_colors[theme]['select_bg']\n",
    "\n",
    "\n",
    "# Изменение шрифтов\n",
    "def chenge_fonts(fontss):\n",
    "    text_fild['font'] = fonts[fontss]['font']\n",
    "\n",
    "\n",
    "# Выход\n",
    "def notepad_exit():\n",
    "    answer = messagebox.askokcancel('Выход', 'Вы точно хотите выйти?')\n",
    "    if answer:\n",
    "        root.destroy()\n",
    "\n",
    "# Открыть файл\n",
    "def open_file():\n",
    "    file_path = filedialog.askopenfilename(title='Выбор файла', filetypes=(('Текстовые документы (*.txt)', '*.txt'), ('Все файлы', '*.*')))\n",
    "    if file_path:\n",
    "        text_fild.delete('1.0', END)\n",
    "        text_fild.insert('1.0', open(file_path, encoding='utf-8').read())\n",
    "\n",
    "# Сохранить файл\n",
    "def save_file():\n",
    "    file_path = filedialog.asksaveasfilename(filetypes=(('Текстовые документы (*.txt)', '*.txt'), ('Все файлы', '*.*')))\n",
    "    f = open(file_path, 'w', encoding='utf-8')\n",
    "    text = t.get('1.0', END)\n",
    "    f.write(text)\n",
    "    f.close()"
   ]
  },
  {
   "cell_type": "markdown",
   "id": "64f2c7e3-6e5f-4b42-bc33-4be4b5c442d9",
   "metadata": {},
   "source": [
    "### Привязка команд в меню\n",
    "\n",
    "Осталось привязать созданные функции к пунктам меню и блокнот готов:"
   ]
  },
  {
   "cell_type": "code",
   "execution_count": null,
   "id": "031bdbb3-c047-4cce-8d9b-433c866ecaff",
   "metadata": {
    "tags": []
   },
   "outputs": [],
   "source": [
    "# Файл\n",
    "file_menu = Menu(main_menu, tearoff=0)\n",
    "file_menu.add_command(label='Открыть', command=open_file)\n",
    "file_menu.add_command(label='Сохранить', command=save_file)\n",
    "file_menu.add_separator()\n",
    "file_menu.add_command(label='Закрыть', command=notepad_exit)\n",
    "root.config(menu=file_menu)\n",
    "\n",
    "# Вид\n",
    "view_menu = Menu(main_menu, tearoff=0)\n",
    "view_menu_sub = Menu(view_menu, tearoff=0)\n",
    "font_menu_sub = Menu(view_menu, tearoff=0)\n",
    "view_menu_sub.add_command(label='Тёмная', command=lambda: chenge_theme('dark'))\n",
    "view_menu_sub.add_command(label='Светлая', command=lambda: chenge_theme('light'))\n",
    "view_menu.add_cascade(label='Тема', menu=view_menu_sub)\n",
    "\n",
    "font_menu_sub.add_command(label='Arial', command=lambda: chenge_fonts('Arial'))\n",
    "font_menu_sub.add_command(label='Comic Sans MS', command=lambda: chenge_fonts('CSMS'))\n",
    "font_menu_sub.add_command(label='Times New Roman', command=lambda: chenge_fonts('TNR'))\n",
    "view_menu.add_cascade(label='Шрифт...', menu=font_menu_sub)\n",
    "root.config(menu=view_menu)\n",
    "\n",
    "# Добавление списков меню\n",
    "main_menu.add_cascade(label='Файл', menu=file_menu)\n",
    "main_menu.add_cascade(label='Вид', menu=view_menu)\n",
    "root.config(menu=main_menu)"
   ]
  },
  {
   "cell_type": "code",
   "execution_count": null,
   "id": "5ac28737-5496-4956-830b-51d98ad96223",
   "metadata": {
    "tags": []
   },
   "outputs": [],
   "source": [
    "### Код\n",
    "\n",
    "Весь код:"
   ]
  },
  {
   "cell_type": "code",
   "execution_count": null,
   "id": "e1363b65-66d9-47e8-9d9c-6715fb8cb225",
   "metadata": {
    "tags": []
   },
   "outputs": [],
   "source": [
    "from tkinter import *\n",
    "from tkinter import messagebox\n",
    "from tkinter import filedialog\n",
    "\n",
    "\n",
    "def chenge_theme(theme):\n",
    "    text_fild['bg'] = view_colors[theme]['text_bg']\n",
    "    text_fild['fg'] = view_colors[theme]['text_fg']\n",
    "    text_fild['insertbackground'] = view_colors[theme]['cursor']\n",
    "    text_fild['selectbackground'] = view_colors[theme]['select_bg']\n",
    "\n",
    "\n",
    "def chenge_fonts(fontss):\n",
    "    text_fild['font'] = fonts[fontss]['font']\n",
    "\n",
    "\n",
    "def notepad_exit():\n",
    "    answer = messagebox.askokcancel('Выход', 'Вы точно хотите выйти?')\n",
    "    if answer:\n",
    "        root.destroy()\n",
    "\n",
    "\n",
    "def open_file():\n",
    "    file_path = filedialog.askopenfilename(title='Выбор файла', filetypes=(('Текстовые документы (*.txt)', '*.txt'), ('Все файлы', '*.*')))\n",
    "    if file_path:\n",
    "        text_fild.delete('1.0', END)\n",
    "        text_fild.insert('1.0', open(file_path, encoding='utf-8').read())\n",
    "\n",
    "\n",
    "def save_file():\n",
    "    file_path = filedialog.asksaveasfilename(filetypes=(('Текстовые документы (*.txt)', '*.txt'), ('Все файлы', '*.*')))\n",
    "    f = open(file_path, 'w', encoding='utf-8')\n",
    "    text = text_fild.get('1.0', END)\n",
    "    f.write(text)\n",
    "    f.close()\n",
    "\n",
    "\n",
    "root = Tk()\n",
    "root.title('Текстовый редактор')\n",
    "root.geometry('600x700')\n",
    "root.iconbitmap('notepad.ico')\n",
    "\n",
    "main_menu = Menu(root)\n",
    "\n",
    "# Файл\n",
    "file_menu = Menu(main_menu, tearoff=0)\n",
    "file_menu.add_command(label='Открыть', command=open_file)\n",
    "file_menu.add_command(label='Сохранить', command=save_file)\n",
    "file_menu.add_separator()\n",
    "file_menu.add_command(label='Закрыть', command=notepad_exit)\n",
    "root.config(menu=file_menu)\n",
    "\n",
    "# Вид\n",
    "view_menu = Menu(main_menu, tearoff=0)\n",
    "view_menu_sub = Menu(view_menu, tearoff=0)\n",
    "font_menu_sub = Menu(view_menu, tearoff=0)\n",
    "view_menu_sub.add_command(label='Тёмная', command=lambda: chenge_theme('dark'))\n",
    "view_menu_sub.add_command(label='Светлая', command=lambda: chenge_theme('light'))\n",
    "view_menu.add_cascade(label='Тема', menu=view_menu_sub)\n",
    "\n",
    "font_menu_sub.add_command(label='Arial', command=lambda: chenge_fonts('Arial'))\n",
    "font_menu_sub.add_command(label='Comic Sans MS', command=lambda: chenge_fonts('CSMS'))\n",
    "font_menu_sub.add_command(label='Times New Roman', command=lambda: chenge_fonts('TNR'))\n",
    "view_menu.add_cascade(label='Шрифт...', menu=font_menu_sub)\n",
    "root.config(menu=view_menu)\n",
    "\n",
    "# Добавление списков меню\n",
    "main_menu.add_cascade(label='Файл', menu=file_menu)\n",
    "main_menu.add_cascade(label='Вид', menu=view_menu)\n",
    "root.config(menu=main_menu)\n",
    "\n",
    "f_text = Frame(root)\n",
    "f_text.pack(fill=BOTH, expand=1)\n",
    "\n",
    "view_colors = {\n",
    "    'dark': {\n",
    "        'text_bg': 'black', 'text_fg': 'lime', 'cursor': 'brown', 'select_bg': '#8D917A'\n",
    "    },\n",
    "    'light': {\n",
    "        'text_bg': 'white', 'text_fg': 'black', 'cursor': '#A5A5A5', 'select_bg': '#FAEEDD'\n",
    "    }\n",
    "}\n",
    "\n",
    "fonts = {\n",
    "    'Arial': {\n",
    "        'font':'Arial 14 bold'\n",
    "    },\n",
    "    'CSMS': {\n",
    "        'font': ('Comic Sans MS', 14, 'bold')\n",
    "    },\n",
    "    'TNR': {\n",
    "        'font': ('Times New Roman', 14, 'bold')\n",
    "    }\n",
    "}\n",
    "\n",
    "text_fild = Text(f_text,\n",
    "                 bg='black',\n",
    "                 fg='lime',\n",
    "                 padx=10,\n",
    "                 pady=10,\n",
    "                 wrap=WORD,\n",
    "                 insertbackground='brown',\n",
    "                 selectbackground='#8D917A',\n",
    "                 spacing3=10,\n",
    "                 width=30,\n",
    "                 font='Arial 14 bold'\n",
    "                 )\n",
    "text_fild.pack(expand=1, fill=BOTH, side=LEFT)\n",
    "\n",
    "scroll = Scrollbar(f_text, command=text_fild.yview)\n",
    "scroll.pack(side=LEFT, fill=Y)\n",
    "text_fild.config(yscrollcommand=scroll.set)\n",
    "\n",
    "root.mainloop()"
   ]
  },
  {
   "cell_type": "markdown",
   "id": "856e82bc-2b89-4cbc-9210-3d7a2762f8db",
   "metadata": {
    "tags": []
   },
   "source": [
    "### Заключение\n",
    "\n",
    "В данной статье мы создали свой блокнот на python с возможностью менять шрифт и тему , а так же с возможностью открытия файлов, и их сохранения."
   ]
  }
 ],
 "metadata": {
  "kernelspec": {
   "display_name": "Python 3 (ipykernel)",
   "language": "python",
   "name": "python3"
  },
  "language_info": {
   "codemirror_mode": {
    "name": "ipython",
    "version": 3
   },
   "file_extension": ".py",
   "mimetype": "text/x-python",
   "name": "python",
   "nbconvert_exporter": "python",
   "pygments_lexer": "ipython3",
   "version": "3.11.5"
  }
 },
 "nbformat": 4,
 "nbformat_minor": 5
}
